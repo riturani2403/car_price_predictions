{
 "cells": [
  {
   "cell_type": "markdown",
   "metadata": {},
   "source": [
    "# Car Price Prediction Project"
   ]
  },
  {
   "cell_type": "markdown",
   "metadata": {},
   "source": [
    "# Business Problem:\n",
    "\n",
    "With the covid 19 impact in the market, we have seen lot of changes in the car market. Now some cars are in demand hence making them costly and some are not in demand hence cheaper. One of our clients works with small traders, who sell used cars. With the change in market due to covid 19 impact, our client is facing problems with their previous car price valuation machine learning models. So, they are looking for new machine learning models from new data. We have to make carprice valuation model."
   ]
  },
  {
   "cell_type": "markdown",
   "metadata": {},
   "source": [
    "### This project has 2 phases\n",
    "\n",
    "First, is to collect data from webiste.\n",
    "we have collected used data from Cars24 website in different python file.\n",
    "\n",
    "### second phase is:\n",
    "\n",
    "In this section we will upload our collected data and build a machine learning model to predict the Sale price of used Cars."
   ]
  },
  {
   "cell_type": "markdown",
   "metadata": {},
   "source": [
    "## Technical Requirements:\n",
    "\n",
    "• Data contains 3543 entries each having 9 variables.\n",
    "\n",
    "• Data contains no Null values.\n",
    "\n",
    "• We perform Extensive EDA to gain relationships between important variable and price.\n",
    "\n",
    "• Data contains numerical as well as categorical variable.\n",
    "\n",
    "• We build Machine Learning models, apply regularization and determine the optimal values of Hyper Parameters.\n",
    "\n",
    "• We will find important features which affect the price positively or negatively.\n",
    "\n",
    "• we have collected data of used cars from Cars24 website from 5 differnet populat cities in another Python file. we will upload that data in this file to predict the price of used cars.\n",
    "\n",
    "We build a machine learning model to predict the Sale price of used Cars."
   ]
  },
  {
   "cell_type": "markdown",
   "metadata": {},
   "source": [
    "PREDICTIONS: Our target is to predict the price of used cars.\n",
    "WORK:\n",
    "1) IMPORTING LIBRARIES\n",
    "\n",
    "2) LOADING DATASET & DESCRIPTION\n",
    "\n",
    "3) DATA PREPROCESSING\n",
    "\n",
    "4) EXPLORATORY DATA ANALYSIS\n",
    "\n",
    "5) SPLITING DATA AND APPLYING train_test_split\n",
    "\n",
    "6) FINDING BEST RANDOM STATE\n",
    "\n",
    "7) PREDCTINGprice of used cars USING DIFFERENT ALGORITHMS\n",
    "\n",
    "8) GRID SEARCH CV\n",
    "\n",
    "9) TUNNING WITH BEST PARAMETERS\n",
    "\n",
    "10) SAVING OUR MODEL\n",
    "\n",
    "11) CONCLUSION"
   ]
  },
  {
   "cell_type": "code",
   "execution_count": 1,
   "metadata": {},
   "outputs": [],
   "source": [
    "# importing libraries\n",
    "\n",
    "import numpy as np\n",
    "import pandas as pd \n",
    "import seaborn as sns\n",
    "import matplotlib.pyplot as plt\n",
    "\n",
    "import warnings\n",
    "warnings.filterwarnings(\"ignore\")"
   ]
  },
  {
   "cell_type": "markdown",
   "metadata": {},
   "source": [
    "#### Importing Data\n",
    "\n",
    "Data is in excel format. So, we will use pd.read_excel function to read data"
   ]
  },
  {
   "cell_type": "code",
   "execution_count": 2,
   "metadata": {},
   "outputs": [],
   "source": [
    "df = pd.read_excel('final car data.xlsx')"
   ]
  },
  {
   "cell_type": "code",
   "execution_count": 3,
   "metadata": {},
   "outputs": [
    {
     "data": {
      "text/html": [
       "<div>\n",
       "<style scoped>\n",
       "    .dataframe tbody tr th:only-of-type {\n",
       "        vertical-align: middle;\n",
       "    }\n",
       "\n",
       "    .dataframe tbody tr th {\n",
       "        vertical-align: top;\n",
       "    }\n",
       "\n",
       "    .dataframe thead th {\n",
       "        text-align: right;\n",
       "    }\n",
       "</style>\n",
       "<table border=\"1\" class=\"dataframe\">\n",
       "  <thead>\n",
       "    <tr style=\"text-align: right;\">\n",
       "      <th></th>\n",
       "      <th>car_year</th>\n",
       "      <th>car_name</th>\n",
       "      <th>car_model</th>\n",
       "      <th>zero_payment per month</th>\n",
       "      <th>distacnce covered in km</th>\n",
       "      <th>petrol/diesel</th>\n",
       "      <th>owner</th>\n",
       "      <th>City</th>\n",
       "      <th>car_price_INR</th>\n",
       "    </tr>\n",
       "  </thead>\n",
       "  <tbody>\n",
       "    <tr>\n",
       "      <th>0</th>\n",
       "      <td>2021</td>\n",
       "      <td>Hyundai VENUE</td>\n",
       "      <td>S MT 1.2 KAPPA</td>\n",
       "      <td>17973</td>\n",
       "      <td>2589</td>\n",
       "      <td>Petrol</td>\n",
       "      <td>1</td>\n",
       "      <td>New Delhi</td>\n",
       "      <td>807999</td>\n",
       "    </tr>\n",
       "    <tr>\n",
       "      <th>1</th>\n",
       "      <td>2008</td>\n",
       "      <td>Maruti Alto</td>\n",
       "      <td>LXI Manual</td>\n",
       "      <td>3285</td>\n",
       "      <td>22357</td>\n",
       "      <td>Petrol</td>\n",
       "      <td>1</td>\n",
       "      <td>New Delhi</td>\n",
       "      <td>147699</td>\n",
       "    </tr>\n",
       "    <tr>\n",
       "      <th>2</th>\n",
       "      <td>2020</td>\n",
       "      <td>Maruti Alto</td>\n",
       "      <td>LXI Manual</td>\n",
       "      <td>8277</td>\n",
       "      <td>2723</td>\n",
       "      <td>Petrol</td>\n",
       "      <td>1</td>\n",
       "      <td>New Delhi</td>\n",
       "      <td>372099</td>\n",
       "    </tr>\n",
       "    <tr>\n",
       "      <th>3</th>\n",
       "      <td>2015</td>\n",
       "      <td>Hyundai Grand i10</td>\n",
       "      <td>ASTA 1.2 KAPPA VTVT Manual</td>\n",
       "      <td>9343</td>\n",
       "      <td>8507</td>\n",
       "      <td>Petrol</td>\n",
       "      <td>1</td>\n",
       "      <td>New Delhi</td>\n",
       "      <td>420000</td>\n",
       "    </tr>\n",
       "    <tr>\n",
       "      <th>4</th>\n",
       "      <td>2011</td>\n",
       "      <td>Maruti Alto K10</td>\n",
       "      <td>VXI Manual</td>\n",
       "      <td>4860</td>\n",
       "      <td>20354</td>\n",
       "      <td>Petrol</td>\n",
       "      <td>1</td>\n",
       "      <td>New Delhi</td>\n",
       "      <td>218499</td>\n",
       "    </tr>\n",
       "    <tr>\n",
       "      <th>...</th>\n",
       "      <td>...</td>\n",
       "      <td>...</td>\n",
       "      <td>...</td>\n",
       "      <td>...</td>\n",
       "      <td>...</td>\n",
       "      <td>...</td>\n",
       "      <td>...</td>\n",
       "      <td>...</td>\n",
       "      <td>...</td>\n",
       "    </tr>\n",
       "    <tr>\n",
       "      <th>3538</th>\n",
       "      <td>2012</td>\n",
       "      <td>Hyundai i20</td>\n",
       "      <td>SPORTZ 1.4 CRDI Manual</td>\n",
       "      <td>8798</td>\n",
       "      <td>64996</td>\n",
       "      <td>Diesel</td>\n",
       "      <td>1</td>\n",
       "      <td>Bangalore</td>\n",
       "      <td>395499</td>\n",
       "    </tr>\n",
       "    <tr>\n",
       "      <th>3539</th>\n",
       "      <td>2010</td>\n",
       "      <td>Fiat Grand Punto</td>\n",
       "      <td>EMOTION 1.3 Manual</td>\n",
       "      <td>5414</td>\n",
       "      <td>76623</td>\n",
       "      <td>Diesel</td>\n",
       "      <td>2</td>\n",
       "      <td>Bangalore</td>\n",
       "      <td>243399</td>\n",
       "    </tr>\n",
       "    <tr>\n",
       "      <th>3540</th>\n",
       "      <td>2019</td>\n",
       "      <td>Skoda Rapid</td>\n",
       "      <td>STYLE 1.6 MPI MT Manual</td>\n",
       "      <td>21909</td>\n",
       "      <td>3353</td>\n",
       "      <td>Petrol</td>\n",
       "      <td>1</td>\n",
       "      <td>Bangalore</td>\n",
       "      <td>984899</td>\n",
       "    </tr>\n",
       "    <tr>\n",
       "      <th>3541</th>\n",
       "      <td>2014</td>\n",
       "      <td>Hyundai Verna</td>\n",
       "      <td>FLUIDIC 1.6 VTVT SX AT Automatic</td>\n",
       "      <td>14383</td>\n",
       "      <td>64279</td>\n",
       "      <td>Petrol</td>\n",
       "      <td>1</td>\n",
       "      <td>Bangalore</td>\n",
       "      <td>646599</td>\n",
       "    </tr>\n",
       "    <tr>\n",
       "      <th>3542</th>\n",
       "      <td>2011</td>\n",
       "      <td>Hyundai i20</td>\n",
       "      <td>ASTA 1.2 Manual</td>\n",
       "      <td>9903</td>\n",
       "      <td>72397</td>\n",
       "      <td>Petrol</td>\n",
       "      <td>2</td>\n",
       "      <td>Bangalore</td>\n",
       "      <td>445199</td>\n",
       "    </tr>\n",
       "  </tbody>\n",
       "</table>\n",
       "<p>3543 rows × 9 columns</p>\n",
       "</div>"
      ],
      "text/plain": [
       "      car_year           car_name                         car_model  \\\n",
       "0         2021      Hyundai VENUE                    S MT 1.2 KAPPA   \n",
       "1         2008        Maruti Alto                        LXI Manual   \n",
       "2         2020        Maruti Alto                        LXI Manual   \n",
       "3         2015  Hyundai Grand i10        ASTA 1.2 KAPPA VTVT Manual   \n",
       "4         2011    Maruti Alto K10                        VXI Manual   \n",
       "...        ...                ...                               ...   \n",
       "3538      2012        Hyundai i20            SPORTZ 1.4 CRDI Manual   \n",
       "3539      2010   Fiat Grand Punto                EMOTION 1.3 Manual   \n",
       "3540      2019        Skoda Rapid           STYLE 1.6 MPI MT Manual   \n",
       "3541      2014      Hyundai Verna  FLUIDIC 1.6 VTVT SX AT Automatic   \n",
       "3542      2011        Hyundai i20                   ASTA 1.2 Manual   \n",
       "\n",
       "      zero_payment per month  distacnce covered in km petrol/diesel  owner  \\\n",
       "0                      17973                     2589        Petrol      1   \n",
       "1                       3285                    22357        Petrol      1   \n",
       "2                       8277                     2723        Petrol      1   \n",
       "3                       9343                     8507        Petrol      1   \n",
       "4                       4860                    20354        Petrol      1   \n",
       "...                      ...                      ...           ...    ...   \n",
       "3538                    8798                    64996        Diesel      1   \n",
       "3539                    5414                    76623        Diesel      2   \n",
       "3540                   21909                     3353        Petrol      1   \n",
       "3541                   14383                    64279        Petrol      1   \n",
       "3542                    9903                    72397        Petrol      2   \n",
       "\n",
       "           City  car_price_INR  \n",
       "0     New Delhi         807999  \n",
       "1     New Delhi         147699  \n",
       "2     New Delhi         372099  \n",
       "3     New Delhi         420000  \n",
       "4     New Delhi         218499  \n",
       "...         ...            ...  \n",
       "3538  Bangalore         395499  \n",
       "3539  Bangalore         243399  \n",
       "3540  Bangalore         984899  \n",
       "3541  Bangalore         646599  \n",
       "3542  Bangalore         445199  \n",
       "\n",
       "[3543 rows x 9 columns]"
      ]
     },
     "execution_count": 3,
     "metadata": {},
     "output_type": "execute_result"
    }
   ],
   "source": [
    "df"
   ]
  },
  {
   "cell_type": "code",
   "execution_count": 4,
   "metadata": {},
   "outputs": [
    {
     "data": {
      "text/html": [
       "<div>\n",
       "<style scoped>\n",
       "    .dataframe tbody tr th:only-of-type {\n",
       "        vertical-align: middle;\n",
       "    }\n",
       "\n",
       "    .dataframe tbody tr th {\n",
       "        vertical-align: top;\n",
       "    }\n",
       "\n",
       "    .dataframe thead th {\n",
       "        text-align: right;\n",
       "    }\n",
       "</style>\n",
       "<table border=\"1\" class=\"dataframe\">\n",
       "  <thead>\n",
       "    <tr style=\"text-align: right;\">\n",
       "      <th></th>\n",
       "      <th>car_year</th>\n",
       "      <th>car_name</th>\n",
       "      <th>car_model</th>\n",
       "      <th>zero_payment per month</th>\n",
       "      <th>distacnce covered in km</th>\n",
       "      <th>petrol/diesel</th>\n",
       "      <th>owner</th>\n",
       "      <th>City</th>\n",
       "      <th>car_price_INR</th>\n",
       "    </tr>\n",
       "  </thead>\n",
       "  <tbody>\n",
       "    <tr>\n",
       "      <th>0</th>\n",
       "      <td>2021</td>\n",
       "      <td>Hyundai VENUE</td>\n",
       "      <td>S MT 1.2 KAPPA</td>\n",
       "      <td>17973</td>\n",
       "      <td>2589</td>\n",
       "      <td>Petrol</td>\n",
       "      <td>1</td>\n",
       "      <td>New Delhi</td>\n",
       "      <td>807999</td>\n",
       "    </tr>\n",
       "    <tr>\n",
       "      <th>1</th>\n",
       "      <td>2008</td>\n",
       "      <td>Maruti Alto</td>\n",
       "      <td>LXI Manual</td>\n",
       "      <td>3285</td>\n",
       "      <td>22357</td>\n",
       "      <td>Petrol</td>\n",
       "      <td>1</td>\n",
       "      <td>New Delhi</td>\n",
       "      <td>147699</td>\n",
       "    </tr>\n",
       "    <tr>\n",
       "      <th>2</th>\n",
       "      <td>2020</td>\n",
       "      <td>Maruti Alto</td>\n",
       "      <td>LXI Manual</td>\n",
       "      <td>8277</td>\n",
       "      <td>2723</td>\n",
       "      <td>Petrol</td>\n",
       "      <td>1</td>\n",
       "      <td>New Delhi</td>\n",
       "      <td>372099</td>\n",
       "    </tr>\n",
       "    <tr>\n",
       "      <th>3</th>\n",
       "      <td>2015</td>\n",
       "      <td>Hyundai Grand i10</td>\n",
       "      <td>ASTA 1.2 KAPPA VTVT Manual</td>\n",
       "      <td>9343</td>\n",
       "      <td>8507</td>\n",
       "      <td>Petrol</td>\n",
       "      <td>1</td>\n",
       "      <td>New Delhi</td>\n",
       "      <td>420000</td>\n",
       "    </tr>\n",
       "    <tr>\n",
       "      <th>4</th>\n",
       "      <td>2011</td>\n",
       "      <td>Maruti Alto K10</td>\n",
       "      <td>VXI Manual</td>\n",
       "      <td>4860</td>\n",
       "      <td>20354</td>\n",
       "      <td>Petrol</td>\n",
       "      <td>1</td>\n",
       "      <td>New Delhi</td>\n",
       "      <td>218499</td>\n",
       "    </tr>\n",
       "  </tbody>\n",
       "</table>\n",
       "</div>"
      ],
      "text/plain": [
       "   car_year           car_name                   car_model  \\\n",
       "0      2021      Hyundai VENUE              S MT 1.2 KAPPA   \n",
       "1      2008        Maruti Alto                  LXI Manual   \n",
       "2      2020        Maruti Alto                  LXI Manual   \n",
       "3      2015  Hyundai Grand i10  ASTA 1.2 KAPPA VTVT Manual   \n",
       "4      2011    Maruti Alto K10                  VXI Manual   \n",
       "\n",
       "   zero_payment per month  distacnce covered in km petrol/diesel  owner  \\\n",
       "0                   17973                     2589        Petrol      1   \n",
       "1                    3285                    22357        Petrol      1   \n",
       "2                    8277                     2723        Petrol      1   \n",
       "3                    9343                     8507        Petrol      1   \n",
       "4                    4860                    20354        Petrol      1   \n",
       "\n",
       "        City  car_price_INR  \n",
       "0  New Delhi         807999  \n",
       "1  New Delhi         147699  \n",
       "2  New Delhi         372099  \n",
       "3  New Delhi         420000  \n",
       "4  New Delhi         218499  "
      ]
     },
     "execution_count": 4,
     "metadata": {},
     "output_type": "execute_result"
    }
   ],
   "source": [
    "df.head()"
   ]
  },
  {
   "cell_type": "code",
   "execution_count": 5,
   "metadata": {},
   "outputs": [
    {
     "data": {
      "text/html": [
       "<div>\n",
       "<style scoped>\n",
       "    .dataframe tbody tr th:only-of-type {\n",
       "        vertical-align: middle;\n",
       "    }\n",
       "\n",
       "    .dataframe tbody tr th {\n",
       "        vertical-align: top;\n",
       "    }\n",
       "\n",
       "    .dataframe thead th {\n",
       "        text-align: right;\n",
       "    }\n",
       "</style>\n",
       "<table border=\"1\" class=\"dataframe\">\n",
       "  <thead>\n",
       "    <tr style=\"text-align: right;\">\n",
       "      <th></th>\n",
       "      <th>car_year</th>\n",
       "      <th>car_name</th>\n",
       "      <th>car_model</th>\n",
       "      <th>zero_payment per month</th>\n",
       "      <th>distacnce covered in km</th>\n",
       "      <th>petrol/diesel</th>\n",
       "      <th>owner</th>\n",
       "      <th>City</th>\n",
       "      <th>car_price_INR</th>\n",
       "    </tr>\n",
       "  </thead>\n",
       "  <tbody>\n",
       "    <tr>\n",
       "      <th>3533</th>\n",
       "      <td>2017</td>\n",
       "      <td>Maruti Wagon R 1.0</td>\n",
       "      <td>VXI+ (O) MT Manual</td>\n",
       "      <td>9554</td>\n",
       "      <td>32733</td>\n",
       "      <td>Petrol</td>\n",
       "      <td>1</td>\n",
       "      <td>Bangalore</td>\n",
       "      <td>429500</td>\n",
       "    </tr>\n",
       "    <tr>\n",
       "      <th>3534</th>\n",
       "      <td>2011</td>\n",
       "      <td>Hyundai Verna</td>\n",
       "      <td>FLUIDIC 1.6 SX VTVT OPT AT Automatic</td>\n",
       "      <td>12190</td>\n",
       "      <td>62636</td>\n",
       "      <td>Petrol</td>\n",
       "      <td>1</td>\n",
       "      <td>Bangalore</td>\n",
       "      <td>547999</td>\n",
       "    </tr>\n",
       "    <tr>\n",
       "      <th>3535</th>\n",
       "      <td>2015</td>\n",
       "      <td>Volkswagen Polo</td>\n",
       "      <td>HIGHLINE1.2L PETROL Manual</td>\n",
       "      <td>12573</td>\n",
       "      <td>21326</td>\n",
       "      <td>Petrol</td>\n",
       "      <td>2</td>\n",
       "      <td>Bangalore</td>\n",
       "      <td>565199</td>\n",
       "    </tr>\n",
       "    <tr>\n",
       "      <th>3536</th>\n",
       "      <td>2009</td>\n",
       "      <td>Maruti Zen Estilo</td>\n",
       "      <td>VXI Manual</td>\n",
       "      <td>5968</td>\n",
       "      <td>26122</td>\n",
       "      <td>Petrol</td>\n",
       "      <td>2</td>\n",
       "      <td>Bangalore</td>\n",
       "      <td>268299</td>\n",
       "    </tr>\n",
       "    <tr>\n",
       "      <th>3537</th>\n",
       "      <td>2020</td>\n",
       "      <td>Hyundai VENUE</td>\n",
       "      <td>S MT 1.2 KAPPA Manual</td>\n",
       "      <td>19055</td>\n",
       "      <td>6519</td>\n",
       "      <td>Petrol</td>\n",
       "      <td>1</td>\n",
       "      <td>Bangalore</td>\n",
       "      <td>856599</td>\n",
       "    </tr>\n",
       "    <tr>\n",
       "      <th>3538</th>\n",
       "      <td>2012</td>\n",
       "      <td>Hyundai i20</td>\n",
       "      <td>SPORTZ 1.4 CRDI Manual</td>\n",
       "      <td>8798</td>\n",
       "      <td>64996</td>\n",
       "      <td>Diesel</td>\n",
       "      <td>1</td>\n",
       "      <td>Bangalore</td>\n",
       "      <td>395499</td>\n",
       "    </tr>\n",
       "    <tr>\n",
       "      <th>3539</th>\n",
       "      <td>2010</td>\n",
       "      <td>Fiat Grand Punto</td>\n",
       "      <td>EMOTION 1.3 Manual</td>\n",
       "      <td>5414</td>\n",
       "      <td>76623</td>\n",
       "      <td>Diesel</td>\n",
       "      <td>2</td>\n",
       "      <td>Bangalore</td>\n",
       "      <td>243399</td>\n",
       "    </tr>\n",
       "    <tr>\n",
       "      <th>3540</th>\n",
       "      <td>2019</td>\n",
       "      <td>Skoda Rapid</td>\n",
       "      <td>STYLE 1.6 MPI MT Manual</td>\n",
       "      <td>21909</td>\n",
       "      <td>3353</td>\n",
       "      <td>Petrol</td>\n",
       "      <td>1</td>\n",
       "      <td>Bangalore</td>\n",
       "      <td>984899</td>\n",
       "    </tr>\n",
       "    <tr>\n",
       "      <th>3541</th>\n",
       "      <td>2014</td>\n",
       "      <td>Hyundai Verna</td>\n",
       "      <td>FLUIDIC 1.6 VTVT SX AT Automatic</td>\n",
       "      <td>14383</td>\n",
       "      <td>64279</td>\n",
       "      <td>Petrol</td>\n",
       "      <td>1</td>\n",
       "      <td>Bangalore</td>\n",
       "      <td>646599</td>\n",
       "    </tr>\n",
       "    <tr>\n",
       "      <th>3542</th>\n",
       "      <td>2011</td>\n",
       "      <td>Hyundai i20</td>\n",
       "      <td>ASTA 1.2 Manual</td>\n",
       "      <td>9903</td>\n",
       "      <td>72397</td>\n",
       "      <td>Petrol</td>\n",
       "      <td>2</td>\n",
       "      <td>Bangalore</td>\n",
       "      <td>445199</td>\n",
       "    </tr>\n",
       "  </tbody>\n",
       "</table>\n",
       "</div>"
      ],
      "text/plain": [
       "      car_year            car_name                             car_model  \\\n",
       "3533      2017  Maruti Wagon R 1.0                    VXI+ (O) MT Manual   \n",
       "3534      2011       Hyundai Verna  FLUIDIC 1.6 SX VTVT OPT AT Automatic   \n",
       "3535      2015     Volkswagen Polo            HIGHLINE1.2L PETROL Manual   \n",
       "3536      2009   Maruti Zen Estilo                            VXI Manual   \n",
       "3537      2020       Hyundai VENUE                 S MT 1.2 KAPPA Manual   \n",
       "3538      2012         Hyundai i20                SPORTZ 1.4 CRDI Manual   \n",
       "3539      2010    Fiat Grand Punto                    EMOTION 1.3 Manual   \n",
       "3540      2019         Skoda Rapid               STYLE 1.6 MPI MT Manual   \n",
       "3541      2014       Hyundai Verna      FLUIDIC 1.6 VTVT SX AT Automatic   \n",
       "3542      2011         Hyundai i20                       ASTA 1.2 Manual   \n",
       "\n",
       "      zero_payment per month  distacnce covered in km petrol/diesel  owner  \\\n",
       "3533                    9554                    32733        Petrol      1   \n",
       "3534                   12190                    62636        Petrol      1   \n",
       "3535                   12573                    21326        Petrol      2   \n",
       "3536                    5968                    26122        Petrol      2   \n",
       "3537                   19055                     6519        Petrol      1   \n",
       "3538                    8798                    64996        Diesel      1   \n",
       "3539                    5414                    76623        Diesel      2   \n",
       "3540                   21909                     3353        Petrol      1   \n",
       "3541                   14383                    64279        Petrol      1   \n",
       "3542                    9903                    72397        Petrol      2   \n",
       "\n",
       "           City  car_price_INR  \n",
       "3533  Bangalore         429500  \n",
       "3534  Bangalore         547999  \n",
       "3535  Bangalore         565199  \n",
       "3536  Bangalore         268299  \n",
       "3537  Bangalore         856599  \n",
       "3538  Bangalore         395499  \n",
       "3539  Bangalore         243399  \n",
       "3540  Bangalore         984899  \n",
       "3541  Bangalore         646599  \n",
       "3542  Bangalore         445199  "
      ]
     },
     "execution_count": 5,
     "metadata": {},
     "output_type": "execute_result"
    }
   ],
   "source": [
    "# looking last 10 rows\n",
    "\n",
    "df.tail(10)"
   ]
  },
  {
   "cell_type": "code",
   "execution_count": 6,
   "metadata": {},
   "outputs": [
    {
     "data": {
      "text/plain": [
       "(3543, 9)"
      ]
     },
     "execution_count": 6,
     "metadata": {},
     "output_type": "execute_result"
    }
   ],
   "source": [
    "df.shape"
   ]
  },
  {
   "cell_type": "code",
   "execution_count": 7,
   "metadata": {},
   "outputs": [
    {
     "data": {
      "text/plain": [
       "Index(['car_year', 'car_name', 'car_model', 'zero_payment per month',\n",
       "       'distacnce covered in km', 'petrol/diesel', 'owner', 'City',\n",
       "       'car_price_INR'],\n",
       "      dtype='object')"
      ]
     },
     "execution_count": 7,
     "metadata": {},
     "output_type": "execute_result"
    }
   ],
   "source": [
    "df.columns"
   ]
  },
  {
   "cell_type": "code",
   "execution_count": 8,
   "metadata": {},
   "outputs": [
    {
     "data": {
      "text/plain": [
       "car_year                    int64\n",
       "car_name                   object\n",
       "car_model                  object\n",
       "zero_payment per month      int64\n",
       "distacnce covered in km     int64\n",
       "petrol/diesel              object\n",
       "owner                       int64\n",
       "City                       object\n",
       "car_price_INR               int64\n",
       "dtype: object"
      ]
     },
     "execution_count": 8,
     "metadata": {},
     "output_type": "execute_result"
    }
   ],
   "source": [
    "df.dtypes"
   ]
  },
  {
   "cell_type": "markdown",
   "metadata": {},
   "source": [
    "car_year : Car manufactuing year\n",
    "\n",
    "car_name :Name of car\n",
    "\n",
    "car_model :model of that particular car\n",
    "\n",
    "zero_payment per month : Installments per month\n",
    "\n",
    "distacnce covered in km : Car covered distance\n",
    "\n",
    "petrol/diesel : wether Car is of petrol, diesel, cng, electric\n",
    "\n",
    "owner : how many owners\n",
    "\n",
    "City : current city\n",
    "\n",
    "car_price_INR : current valuation of used car ( Our Target Variable)"
   ]
  },
  {
   "cell_type": "markdown",
   "metadata": {},
   "source": [
    "# DESCRIBING DATA"
   ]
  },
  {
   "cell_type": "markdown",
   "metadata": {},
   "source": [
    "The measures of central tendency and distribution are some measures to define the data set.\n",
    "\n",
    "The measures used to define the central tendency are mean, median and mode.\n",
    "\n",
    "The standard deviations (or variance) are the minimum and maximum values of variables. The table below is a summary of some statistical measures for each numeric predictor of the dataset:\n",
    "\n",
    "mean: It indicates the average value around which each group of attributes is attested.\n",
    "\n",
    "std (Standard Deviation): It indicates the standard deviation of each attribute group, from which we can guess the degree of data dispersion around the average.\n",
    "\n",
    "max and min indicate the attribute that I assume the highest and lowest value for each attribute group.\n",
    "\n",
    "##### describe function only shows the variable which are numeric"
   ]
  },
  {
   "cell_type": "code",
   "execution_count": 9,
   "metadata": {},
   "outputs": [
    {
     "data": {
      "text/html": [
       "<div>\n",
       "<style scoped>\n",
       "    .dataframe tbody tr th:only-of-type {\n",
       "        vertical-align: middle;\n",
       "    }\n",
       "\n",
       "    .dataframe tbody tr th {\n",
       "        vertical-align: top;\n",
       "    }\n",
       "\n",
       "    .dataframe thead th {\n",
       "        text-align: right;\n",
       "    }\n",
       "</style>\n",
       "<table border=\"1\" class=\"dataframe\">\n",
       "  <thead>\n",
       "    <tr style=\"text-align: right;\">\n",
       "      <th></th>\n",
       "      <th>car_year</th>\n",
       "      <th>zero_payment per month</th>\n",
       "      <th>distacnce covered in km</th>\n",
       "      <th>owner</th>\n",
       "      <th>car_price_INR</th>\n",
       "    </tr>\n",
       "  </thead>\n",
       "  <tbody>\n",
       "    <tr>\n",
       "      <th>count</th>\n",
       "      <td>3543.000000</td>\n",
       "      <td>3543.000000</td>\n",
       "      <td>3543.000000</td>\n",
       "      <td>3543.000000</td>\n",
       "      <td>3.543000e+03</td>\n",
       "    </tr>\n",
       "    <tr>\n",
       "      <th>mean</th>\n",
       "      <td>2014.484053</td>\n",
       "      <td>10741.213096</td>\n",
       "      <td>53086.745696</td>\n",
       "      <td>1.289303</td>\n",
       "      <td>4.828716e+05</td>\n",
       "    </tr>\n",
       "    <tr>\n",
       "      <th>std</th>\n",
       "      <td>2.942458</td>\n",
       "      <td>6178.686994</td>\n",
       "      <td>35083.252453</td>\n",
       "      <td>0.536753</td>\n",
       "      <td>2.777627e+05</td>\n",
       "    </tr>\n",
       "    <tr>\n",
       "      <th>min</th>\n",
       "      <td>2007.000000</td>\n",
       "      <td>2583.000000</td>\n",
       "      <td>411.000000</td>\n",
       "      <td>1.000000</td>\n",
       "      <td>1.160990e+05</td>\n",
       "    </tr>\n",
       "    <tr>\n",
       "      <th>25%</th>\n",
       "      <td>2012.000000</td>\n",
       "      <td>6928.000000</td>\n",
       "      <td>27096.500000</td>\n",
       "      <td>1.000000</td>\n",
       "      <td>3.114490e+05</td>\n",
       "    </tr>\n",
       "    <tr>\n",
       "      <th>50%</th>\n",
       "      <td>2015.000000</td>\n",
       "      <td>9165.000000</td>\n",
       "      <td>46847.000000</td>\n",
       "      <td>1.000000</td>\n",
       "      <td>4.119990e+05</td>\n",
       "    </tr>\n",
       "    <tr>\n",
       "      <th>75%</th>\n",
       "      <td>2017.000000</td>\n",
       "      <td>12686.000000</td>\n",
       "      <td>71864.500000</td>\n",
       "      <td>2.000000</td>\n",
       "      <td>5.702990e+05</td>\n",
       "    </tr>\n",
       "    <tr>\n",
       "      <th>max</th>\n",
       "      <td>2021.000000</td>\n",
       "      <td>87866.000000</td>\n",
       "      <td>312882.000000</td>\n",
       "      <td>5.000000</td>\n",
       "      <td>3.950000e+06</td>\n",
       "    </tr>\n",
       "  </tbody>\n",
       "</table>\n",
       "</div>"
      ],
      "text/plain": [
       "          car_year  zero_payment per month  distacnce covered in km  \\\n",
       "count  3543.000000             3543.000000              3543.000000   \n",
       "mean   2014.484053            10741.213096             53086.745696   \n",
       "std       2.942458             6178.686994             35083.252453   \n",
       "min    2007.000000             2583.000000               411.000000   \n",
       "25%    2012.000000             6928.000000             27096.500000   \n",
       "50%    2015.000000             9165.000000             46847.000000   \n",
       "75%    2017.000000            12686.000000             71864.500000   \n",
       "max    2021.000000            87866.000000            312882.000000   \n",
       "\n",
       "             owner  car_price_INR  \n",
       "count  3543.000000   3.543000e+03  \n",
       "mean      1.289303   4.828716e+05  \n",
       "std       0.536753   2.777627e+05  \n",
       "min       1.000000   1.160990e+05  \n",
       "25%       1.000000   3.114490e+05  \n",
       "50%       1.000000   4.119990e+05  \n",
       "75%       2.000000   5.702990e+05  \n",
       "max       5.000000   3.950000e+06  "
      ]
     },
     "execution_count": 9,
     "metadata": {},
     "output_type": "execute_result"
    }
   ],
   "source": [
    "df.describe()"
   ]
  },
  {
   "cell_type": "markdown",
   "metadata": {},
   "source": [
    "# EXPLORATORY DATA ANALYSIS"
   ]
  },
  {
   "cell_type": "code",
   "execution_count": 10,
   "metadata": {},
   "outputs": [
    {
     "data": {
      "text/plain": [
       "<matplotlib.axes._subplots.AxesSubplot at 0x2b8ccc73b50>"
      ]
     },
     "execution_count": 10,
     "metadata": {},
     "output_type": "execute_result"
    },
    {
     "data": {
      "image/png": "[encoded data removed]",
      "text/plain": [
       "<Figure size 432x288 with 1 Axes>"
      ]
     },
     "metadata": {
      "needs_background": "light"
     },
     "output_type": "display_data"
    }
   ],
   "source": [
    "# Visualizing our target variable\n",
    "\n",
    "sns.distplot(df[\"car_price_INR\"], kde=True,color = 'blue')"
   ]
  },
  {
   "cell_type": "markdown",
   "metadata": {},
   "source": [
    "##### WE CAN VISUALIZE RIGHT SKEWNESS IN OUR TARGET VARAIBLE"
   ]
  },
  {
   "cell_type": "code",
   "execution_count": 11,
   "metadata": {},
   "outputs": [
    {
     "data": {
      "text/plain": [
       "<matplotlib.axes._subplots.AxesSubplot at 0x2b8cd4199d0>"
      ]
     },
     "execution_count": 11,
     "metadata": {},
     "output_type": "execute_result"
    },
    {
     "data": {
      "image/png": "[encoded data removed]",
      "text/plain": [
       "<Figure size 432x288 with 1 Axes>"
      ]
     },
     "metadata": {
      "needs_background": "light"
     },
     "output_type": "display_data"
    }
   ],
   "source": [
    "sns.distplot(df[\"zero_payment per month\"], kde=True,color = 'blue')"
   ]
  },
  {
   "cell_type": "markdown",
   "metadata": {},
   "source": [
    "## Univariate analysis of Categorical varaibles:"
   ]
  },
  {
   "cell_type": "code",
   "execution_count": 12,
   "metadata": {},
   "outputs": [
    {
     "data": {
      "text/plain": [
       "Index(['car_name', 'car_model', 'petrol/diesel', 'City'], dtype='object')"
      ]
     },
     "execution_count": 12,
     "metadata": {},
     "output_type": "execute_result"
    }
   ],
   "source": [
    "df.select_dtypes(include=['object']).columns"
   ]
  },
  {
   "cell_type": "code",
   "execution_count": 13,
   "metadata": {},
   "outputs": [
    {
     "data": {
      "image/png": "[encoded data removed]",
      "text/plain": [
       "<Figure size 432x288 with 1 Axes>"
      ]
     },
     "metadata": {
      "needs_background": "light"
     },
     "output_type": "display_data"
    },
    {
     "data": {
      "image/png": "[encoded data removed]",
      "text/plain": [
       "<Figure size 432x288 with 1 Axes>"
      ]
     },
     "metadata": {
      "needs_background": "light"
     },
     "output_type": "display_data"
    },
    {
     "data": {
      "image/png": "[encoded data removed]",
      "text/plain": [
       "<Figure size 432x288 with 1 Axes>"
      ]
     },
     "metadata": {
      "needs_background": "light"
     },
     "output_type": "display_data"
    },
    {
     "data": {
      "image/png": "[encoded data removed]",
      "text/plain": [
       "<Figure size 432x288 with 1 Axes>"
      ]
     },
     "metadata": {
      "needs_background": "light"
     },
     "output_type": "display_data"
    }
   ],
   "source": [
    "\n",
    "for i in df.columns:\n",
    "    if df[i].dtypes== \"object\":\n",
    "        df[i].value_counts(normalize=True).plot.bar(figsize=(6,4), title=i)\n",
    "        plt.show()"
   ]
  },
  {
   "cell_type": "code",
   "execution_count": 14,
   "metadata": {},
   "outputs": [
    {
     "data": {
      "text/plain": [
       "car_year                     15\n",
       "car_name                    137\n",
       "car_model                   640\n",
       "zero_payment per month     2651\n",
       "distacnce covered in km    3417\n",
       "petrol/diesel                 5\n",
       "owner                         5\n",
       "City                          5\n",
       "car_price_INR              2702\n",
       "dtype: int64"
      ]
     },
     "execution_count": 14,
     "metadata": {},
     "output_type": "execute_result"
    }
   ],
   "source": [
    "# check unique values in train dataset\n",
    "\n",
    "df.apply(lambda x: len(x.unique()))"
   ]
  },
  {
   "cell_type": "code",
   "execution_count": 15,
   "metadata": {},
   "outputs": [
    {
     "name": "stdout",
     "output_type": "stream",
     "text": [
      "2015    436\n",
      "2017    406\n",
      "2014    399\n",
      "2016    387\n",
      "2018    334\n",
      "2012    326\n",
      "2013    325\n",
      "2011    249\n",
      "2010    219\n",
      "2019    216\n",
      "2009    112\n",
      "2020     68\n",
      "2008     57\n",
      "2007      7\n",
      "2021      2\n",
      "Name: car_year, dtype: int64\n",
      "____________________________________________________________\n",
      "Maruti Swift          307\n",
      "Maruti Swift Dzire    223\n",
      "Maruti Alto 800       178\n",
      "Maruti Wagon R 1.0    167\n",
      "Maruti Alto K10       164\n",
      "                     ... \n",
      "Hyundai Tucson New      1\n",
      "Skoda Laura             1\n",
      "Tata Bolt               1\n",
      "Mahindra NUVOSPORT      1\n",
      "Renault Fluence         1\n",
      "Name: car_name, Length: 137, dtype: int64\n",
      "____________________________________________________________\n",
      "VXI Manual                     438\n",
      "LXI Manual                     325\n",
      "VDI Manual                     151\n",
      "VDI BS IV Manual                80\n",
      "VXI 1.2 BS IV Manual            64\n",
      "                              ... \n",
      "GXI Manual                       1\n",
      "Varicor 400 XMA Automatic        1\n",
      "1.2 SPORTS PLUS VTVT Manual      1\n",
      "ZDI SHVS Manual                  1\n",
      "2.5 GX 7 STR BS IV Manual        1\n",
      "Name: car_model, Length: 640, dtype: int64\n",
      "____________________________________________________________\n",
      "6451     6\n",
      "9839     6\n",
      "8119     6\n",
      "8564     5\n",
      "8030     5\n",
      "        ..\n",
      "16901    1\n",
      "10482    1\n",
      "12817    1\n",
      "37397    1\n",
      "6825     1\n",
      "Name: zero_payment per month, Length: 2651, dtype: int64\n",
      "____________________________________________________________\n",
      "1448     3\n",
      "20241    3\n",
      "46146    3\n",
      "23841    2\n",
      "38464    2\n",
      "        ..\n",
      "18091    1\n",
      "60727    1\n",
      "52527    1\n",
      "58670    1\n",
      "98304    1\n",
      "Name: distacnce covered in km, Length: 3417, dtype: int64\n",
      "____________________________________________________________\n",
      "Petrol          2563\n",
      "Diesel           932\n",
      "Petrol + CNG      37\n",
      "Petrol + LPG       9\n",
      "Electric           2\n",
      "Name: petrol/diesel, dtype: int64\n",
      "____________________________________________________________\n",
      "1    2653\n",
      "2     764\n",
      "3     119\n",
      "4       5\n",
      "5       2\n",
      "Name: owner, dtype: int64\n",
      "____________________________________________________________\n",
      "New Delhi    1000\n",
      "Pune         1000\n",
      "Bangalore     739\n",
      "Chennai       653\n",
      "Kolkata       151\n",
      "Name: City, dtype: int64\n",
      "____________________________________________________________\n",
      "442299    6\n",
      "360999    5\n",
      "382899    5\n",
      "385000    5\n",
      "247399    5\n",
      "         ..\n",
      "576499    1\n",
      "306799    1\n",
      "246699    1\n",
      "688599    1\n",
      "180199    1\n",
      "Name: car_price_INR, Length: 2702, dtype: int64\n",
      "____________________________________________________________\n"
     ]
    }
   ],
   "source": [
    "# Look at the values in each columns \n",
    "for i in df:\n",
    "    print(df[i].value_counts())\n",
    "    print(\"____________________________________________________________\")"
   ]
  },
  {
   "cell_type": "code",
   "execution_count": 16,
   "metadata": {},
   "outputs": [
    {
     "data": {
      "text/plain": [
       "2015    436\n",
       "2017    406\n",
       "2014    399\n",
       "2016    387\n",
       "2018    334\n",
       "2012    326\n",
       "2013    325\n",
       "2011    249\n",
       "2010    219\n",
       "2019    216\n",
       "2009    112\n",
       "2020     68\n",
       "2008     57\n",
       "2007      7\n",
       "2021      2\n",
       "Name: car_year, dtype: int64"
      ]
     },
     "execution_count": 16,
     "metadata": {},
     "output_type": "execute_result"
    },
    {
     "data": {
      "image/png": "[encoded data removed]",
      "text/plain": [
       "<Figure size 720x288 with 1 Axes>"
      ]
     },
     "metadata": {
      "needs_background": "light"
     },
     "output_type": "display_data"
    }
   ],
   "source": [
    "plt.subplots(figsize=(10,4))\n",
    "sns.countplot(x='car_year', data = df)\n",
    "df[\"car_year\"].value_counts()"
   ]
  },
  {
   "cell_type": "markdown",
   "metadata": {},
   "source": [
    "large no of cars are from 2015"
   ]
  },
  {
   "cell_type": "markdown",
   "metadata": {},
   "source": [
    "# CLEANING OUR DATASET"
   ]
  },
  {
   "cell_type": "code",
   "execution_count": 17,
   "metadata": {},
   "outputs": [
    {
     "name": "stdout",
     "output_type": "stream",
     "text": [
      "<class 'pandas.core.frame.DataFrame'>\n",
      "RangeIndex: 3543 entries, 0 to 3542\n",
      "Data columns (total 9 columns):\n",
      " #   Column                   Non-Null Count  Dtype \n",
      "---  ------                   --------------  ----- \n",
      " 0   car_year                 3543 non-null   int64 \n",
      " 1   car_name                 3543 non-null   object\n",
      " 2   car_model                3543 non-null   object\n",
      " 3   zero_payment per month   3543 non-null   int64 \n",
      " 4   distacnce covered in km  3543 non-null   int64 \n",
      " 5   petrol/diesel            3543 non-null   object\n",
      " 6   owner                    3543 non-null   int64 \n",
      " 7   City                     3543 non-null   object\n",
      " 8   car_price_INR            3543 non-null   int64 \n",
      "dtypes: int64(5), object(4)\n",
      "memory usage: 249.2+ KB\n"
     ]
    }
   ],
   "source": [
    "df.info()"
   ]
  },
  {
   "cell_type": "code",
   "execution_count": 18,
   "metadata": {},
   "outputs": [
    {
     "data": {
      "text/plain": [
       "car_year                   0\n",
       "car_name                   0\n",
       "car_model                  0\n",
       "zero_payment per month     0\n",
       "distacnce covered in km    0\n",
       "petrol/diesel              0\n",
       "owner                      0\n",
       "City                       0\n",
       "car_price_INR              0\n",
       "dtype: int64"
      ]
     },
     "execution_count": 18,
     "metadata": {},
     "output_type": "execute_result"
    }
   ],
   "source": [
    "df.isnull().sum()"
   ]
  },
  {
   "cell_type": "code",
   "execution_count": 19,
   "metadata": {},
   "outputs": [
    {
     "data": {
      "image/png": "[encoded data removed]",
      "text/plain": [
       "<Figure size 432x288 with 2 Axes>"
      ]
     },
     "metadata": {
      "needs_background": "light"
     },
     "output_type": "display_data"
    }
   ],
   "source": [
    "# Visualization of null values through heat-map\n",
    "\n",
    "sns.heatmap(df.isnull())\n",
    "plt.title(\"Null Values\")\n",
    "plt.show()"
   ]
  },
  {
   "cell_type": "markdown",
   "metadata": {},
   "source": [
    "##### we can visualize that there is NO Null values"
   ]
  },
  {
   "cell_type": "markdown",
   "metadata": {},
   "source": [
    "# LabelEncoding"
   ]
  },
  {
   "cell_type": "code",
   "execution_count": 20,
   "metadata": {},
   "outputs": [],
   "source": [
    "from sklearn.preprocessing import LabelEncoder\n",
    "le=LabelEncoder()"
   ]
  },
  {
   "cell_type": "code",
   "execution_count": 21,
   "metadata": {},
   "outputs": [],
   "source": [
    "# encoding the columns which are in string format into numeric format\n",
    "\n",
    "for i in df.columns:\n",
    "    if df[i].dtypes== \"object\":\n",
    "        df[i]=le.fit_transform(df[i].values.reshape(-1,1))"
   ]
  },
  {
   "cell_type": "code",
   "execution_count": 22,
   "metadata": {},
   "outputs": [
    {
     "data": {
      "text/html": [
       "<div>\n",
       "<style scoped>\n",
       "    .dataframe tbody tr th:only-of-type {\n",
       "        vertical-align: middle;\n",
       "    }\n",
       "\n",
       "    .dataframe tbody tr th {\n",
       "        vertical-align: top;\n",
       "    }\n",
       "\n",
       "    .dataframe thead th {\n",
       "        text-align: right;\n",
       "    }\n",
       "</style>\n",
       "<table border=\"1\" class=\"dataframe\">\n",
       "  <thead>\n",
       "    <tr style=\"text-align: right;\">\n",
       "      <th></th>\n",
       "      <th>car_year</th>\n",
       "      <th>car_name</th>\n",
       "      <th>car_model</th>\n",
       "      <th>zero_payment per month</th>\n",
       "      <th>distacnce covered in km</th>\n",
       "      <th>petrol/diesel</th>\n",
       "      <th>owner</th>\n",
       "      <th>City</th>\n",
       "      <th>car_price_INR</th>\n",
       "    </tr>\n",
       "  </thead>\n",
       "  <tbody>\n",
       "    <tr>\n",
       "      <th>0</th>\n",
       "      <td>2021</td>\n",
       "      <td>46</td>\n",
       "      <td>410</td>\n",
       "      <td>17973</td>\n",
       "      <td>2589</td>\n",
       "      <td>2</td>\n",
       "      <td>1</td>\n",
       "      <td>3</td>\n",
       "      <td>807999</td>\n",
       "    </tr>\n",
       "    <tr>\n",
       "      <th>1</th>\n",
       "      <td>2008</td>\n",
       "      <td>68</td>\n",
       "      <td>358</td>\n",
       "      <td>3285</td>\n",
       "      <td>22357</td>\n",
       "      <td>2</td>\n",
       "      <td>1</td>\n",
       "      <td>3</td>\n",
       "      <td>147699</td>\n",
       "    </tr>\n",
       "    <tr>\n",
       "      <th>2</th>\n",
       "      <td>2020</td>\n",
       "      <td>68</td>\n",
       "      <td>358</td>\n",
       "      <td>8277</td>\n",
       "      <td>2723</td>\n",
       "      <td>2</td>\n",
       "      <td>1</td>\n",
       "      <td>3</td>\n",
       "      <td>372099</td>\n",
       "    </tr>\n",
       "    <tr>\n",
       "      <th>3</th>\n",
       "      <td>2015</td>\n",
       "      <td>41</td>\n",
       "      <td>219</td>\n",
       "      <td>9343</td>\n",
       "      <td>8507</td>\n",
       "      <td>2</td>\n",
       "      <td>1</td>\n",
       "      <td>3</td>\n",
       "      <td>420000</td>\n",
       "    </tr>\n",
       "    <tr>\n",
       "      <th>4</th>\n",
       "      <td>2011</td>\n",
       "      <td>70</td>\n",
       "      <td>541</td>\n",
       "      <td>4860</td>\n",
       "      <td>20354</td>\n",
       "      <td>2</td>\n",
       "      <td>1</td>\n",
       "      <td>3</td>\n",
       "      <td>218499</td>\n",
       "    </tr>\n",
       "  </tbody>\n",
       "</table>\n",
       "</div>"
      ],
      "text/plain": [
       "   car_year  car_name  car_model  zero_payment per month  \\\n",
       "0      2021        46        410                   17973   \n",
       "1      2008        68        358                    3285   \n",
       "2      2020        68        358                    8277   \n",
       "3      2015        41        219                    9343   \n",
       "4      2011        70        541                    4860   \n",
       "\n",
       "   distacnce covered in km  petrol/diesel  owner  City  car_price_INR  \n",
       "0                     2589              2      1     3         807999  \n",
       "1                    22357              2      1     3         147699  \n",
       "2                     2723              2      1     3         372099  \n",
       "3                     8507              2      1     3         420000  \n",
       "4                    20354              2      1     3         218499  "
      ]
     },
     "execution_count": 22,
     "metadata": {},
     "output_type": "execute_result"
    }
   ],
   "source": [
    "df.head(5)"
   ]
  },
  {
   "cell_type": "markdown",
   "metadata": {},
   "source": [
    "# CORRELATION:"
   ]
  },
  {
   "cell_type": "code",
   "execution_count": 23,
   "metadata": {},
   "outputs": [
    {
     "data": {
      "text/html": [
       "<div>\n",
       "<style scoped>\n",
       "    .dataframe tbody tr th:only-of-type {\n",
       "        vertical-align: middle;\n",
       "    }\n",
       "\n",
       "    .dataframe tbody tr th {\n",
       "        vertical-align: top;\n",
       "    }\n",
       "\n",
       "    .dataframe thead th {\n",
       "        text-align: right;\n",
       "    }\n",
       "</style>\n",
       "<table border=\"1\" class=\"dataframe\">\n",
       "  <thead>\n",
       "    <tr style=\"text-align: right;\">\n",
       "      <th></th>\n",
       "      <th>car_year</th>\n",
       "      <th>car_name</th>\n",
       "      <th>car_model</th>\n",
       "      <th>zero_payment per month</th>\n",
       "      <th>distacnce covered in km</th>\n",
       "      <th>petrol/diesel</th>\n",
       "      <th>owner</th>\n",
       "      <th>City</th>\n",
       "      <th>car_price_INR</th>\n",
       "    </tr>\n",
       "  </thead>\n",
       "  <tbody>\n",
       "    <tr>\n",
       "      <th>car_year</th>\n",
       "      <td>1.000000</td>\n",
       "      <td>-0.001804</td>\n",
       "      <td>-0.050821</td>\n",
       "      <td>0.529019</td>\n",
       "      <td>-0.460752</td>\n",
       "      <td>-0.055185</td>\n",
       "      <td>-0.277818</td>\n",
       "      <td>0.079980</td>\n",
       "      <td>0.529019</td>\n",
       "    </tr>\n",
       "    <tr>\n",
       "      <th>car_name</th>\n",
       "      <td>-0.001804</td>\n",
       "      <td>1.000000</td>\n",
       "      <td>0.356842</td>\n",
       "      <td>0.009455</td>\n",
       "      <td>0.086838</td>\n",
       "      <td>-0.155754</td>\n",
       "      <td>-0.048076</td>\n",
       "      <td>0.047279</td>\n",
       "      <td>0.009453</td>\n",
       "    </tr>\n",
       "    <tr>\n",
       "      <th>car_model</th>\n",
       "      <td>-0.050821</td>\n",
       "      <td>0.356842</td>\n",
       "      <td>1.000000</td>\n",
       "      <td>-0.119858</td>\n",
       "      <td>-0.019143</td>\n",
       "      <td>-0.030406</td>\n",
       "      <td>-0.047820</td>\n",
       "      <td>-0.059283</td>\n",
       "      <td>-0.119858</td>\n",
       "    </tr>\n",
       "    <tr>\n",
       "      <th>zero_payment per month</th>\n",
       "      <td>0.529019</td>\n",
       "      <td>0.009455</td>\n",
       "      <td>-0.119858</td>\n",
       "      <td>1.000000</td>\n",
       "      <td>-0.125655</td>\n",
       "      <td>-0.328282</td>\n",
       "      <td>-0.134228</td>\n",
       "      <td>0.077091</td>\n",
       "      <td>1.000000</td>\n",
       "    </tr>\n",
       "    <tr>\n",
       "      <th>distacnce covered in km</th>\n",
       "      <td>-0.460752</td>\n",
       "      <td>0.086838</td>\n",
       "      <td>-0.019143</td>\n",
       "      <td>-0.125655</td>\n",
       "      <td>1.000000</td>\n",
       "      <td>-0.348373</td>\n",
       "      <td>0.142323</td>\n",
       "      <td>0.001910</td>\n",
       "      <td>-0.125656</td>\n",
       "    </tr>\n",
       "    <tr>\n",
       "      <th>petrol/diesel</th>\n",
       "      <td>-0.055185</td>\n",
       "      <td>-0.155754</td>\n",
       "      <td>-0.030406</td>\n",
       "      <td>-0.328282</td>\n",
       "      <td>-0.348373</td>\n",
       "      <td>1.000000</td>\n",
       "      <td>0.053064</td>\n",
       "      <td>-0.149707</td>\n",
       "      <td>-0.328281</td>\n",
       "    </tr>\n",
       "    <tr>\n",
       "      <th>owner</th>\n",
       "      <td>-0.277818</td>\n",
       "      <td>-0.048076</td>\n",
       "      <td>-0.047820</td>\n",
       "      <td>-0.134228</td>\n",
       "      <td>0.142323</td>\n",
       "      <td>0.053064</td>\n",
       "      <td>1.000000</td>\n",
       "      <td>-0.053434</td>\n",
       "      <td>-0.134229</td>\n",
       "    </tr>\n",
       "    <tr>\n",
       "      <th>City</th>\n",
       "      <td>0.079980</td>\n",
       "      <td>0.047279</td>\n",
       "      <td>-0.059283</td>\n",
       "      <td>0.077091</td>\n",
       "      <td>0.001910</td>\n",
       "      <td>-0.149707</td>\n",
       "      <td>-0.053434</td>\n",
       "      <td>1.000000</td>\n",
       "      <td>0.077092</td>\n",
       "    </tr>\n",
       "    <tr>\n",
       "      <th>car_price_INR</th>\n",
       "      <td>0.529019</td>\n",
       "      <td>0.009453</td>\n",
       "      <td>-0.119858</td>\n",
       "      <td>1.000000</td>\n",
       "      <td>-0.125656</td>\n",
       "      <td>-0.328281</td>\n",
       "      <td>-0.134229</td>\n",
       "      <td>0.077092</td>\n",
       "      <td>1.000000</td>\n",
       "    </tr>\n",
       "  </tbody>\n",
       "</table>\n",
       "</div>"
      ],
      "text/plain": [
       "                         car_year  car_name  car_model  \\\n",
       "car_year                 1.000000 -0.001804  -0.050821   \n",
       "car_name                -0.001804  1.000000   0.356842   \n",
       "car_model               -0.050821  0.356842   1.000000   \n",
       "zero_payment per month   0.529019  0.009455  -0.119858   \n",
       "distacnce covered in km -0.460752  0.086838  -0.019143   \n",
       "petrol/diesel           -0.055185 -0.155754  -0.030406   \n",
       "owner                   -0.277818 -0.048076  -0.047820   \n",
       "City                     0.079980  0.047279  -0.059283   \n",
       "car_price_INR            0.529019  0.009453  -0.119858   \n",
       "\n",
       "                         zero_payment per month  distacnce covered in km  \\\n",
       "car_year                               0.529019                -0.460752   \n",
       "car_name                               0.009455                 0.086838   \n",
       "car_model                             -0.119858                -0.019143   \n",
       "zero_payment per month                 1.000000                -0.125655   \n",
       "distacnce covered in km               -0.125655                 1.000000   \n",
       "petrol/diesel                         -0.328282                -0.348373   \n",
       "owner                                 -0.134228                 0.142323   \n",
       "City                                   0.077091                 0.001910   \n",
       "car_price_INR                          1.000000                -0.125656   \n",
       "\n",
       "                         petrol/diesel     owner      City  car_price_INR  \n",
       "car_year                     -0.055185 -0.277818  0.079980       0.529019  \n",
       "car_name                     -0.155754 -0.048076  0.047279       0.009453  \n",
       "car_model                    -0.030406 -0.047820 -0.059283      -0.119858  \n",
       "zero_payment per month       -0.328282 -0.134228  0.077091       1.000000  \n",
       "distacnce covered in km      -0.348373  0.142323  0.001910      -0.125656  \n",
       "petrol/diesel                 1.000000  0.053064 -0.149707      -0.328281  \n",
       "owner                         0.053064  1.000000 -0.053434      -0.134229  \n",
       "City                         -0.149707 -0.053434  1.000000       0.077092  \n",
       "car_price_INR                -0.328281 -0.134229  0.077092       1.000000  "
      ]
     },
     "execution_count": 23,
     "metadata": {},
     "output_type": "execute_result"
    }
   ],
   "source": [
    "corr= df.corr()\n",
    "corr"
   ]
  },
  {
   "cell_type": "code",
   "execution_count": 24,
   "metadata": {},
   "outputs": [
    {
     "data": {
      "text/plain": [
       "car_price_INR              1.000000\n",
       "zero_payment per month     1.000000\n",
       "car_year                   0.529019\n",
       "City                       0.077092\n",
       "car_name                   0.009453\n",
       "car_model                 -0.119858\n",
       "distacnce covered in km   -0.125656\n",
       "owner                     -0.134229\n",
       "petrol/diesel             -0.328281\n",
       "Name: car_price_INR, dtype: float64"
      ]
     },
     "execution_count": 24,
     "metadata": {},
     "output_type": "execute_result"
    }
   ],
   "source": [
    "# checking correlation with our target variable:\n",
    "corr_matrix=df.corr()\n",
    "corr_matrix[\"car_price_INR\"].sort_values(ascending=False)"
   ]
  },
  {
   "cell_type": "code",
   "execution_count": 26,
   "metadata": {},
   "outputs": [
    {
     "data": {
      "text/plain": [
       "<function matplotlib.pyplot.show(*args, **kw)>"
      ]
     },
     "execution_count": 26,
     "metadata": {},
     "output_type": "execute_result"
    },
    {
     "data": {
      "image/png": "[encoded data removed]",
      "text/plain": [
       "<Figure size 1584x504 with 1 Axes>"
      ]
     },
     "metadata": {
      "needs_background": "light"
     },
     "output_type": "display_data"
    }
   ],
   "source": [
    "plt.figure(figsize=(22,7))\n",
    "df.corr()[\"car_price_INR\"].sort_values(ascending=False).drop([\"car_price_INR\"]).plot(kind=\"bar\",color=\"c\")\n",
    "plt.xlabel(\"Features\",fontsize=14)\n",
    "plt.ylabel(\"Columns with target names\", fontsize=14)\n",
    "plt.title(\"correlation\",fontsize=18)\n",
    "plt.show"
   ]
  },
  {
   "cell_type": "code",
   "execution_count": null,
   "metadata": {},
   "outputs": [],
   "source": [
    "## zero payment per month is positively correcleated with price of used cars. "
   ]
  },
  {
   "cell_type": "markdown",
   "metadata": {},
   "source": [
    "# Treating Outliers"
   ]
  },
  {
   "cell_type": "code",
   "execution_count": 27,
   "metadata": {},
   "outputs": [
    {
     "data": {
      "text/plain": [
       "(array([ 103,  110,  160,  186,  204,  204,  227,  240,  295,  303,  309,\n",
       "         335,  390,  403,  403,  427,  465,  465,  483,  483,  487,  494,\n",
       "         518,  518,  524,  541,  541,  570,  583,  583,  593,  593,  594,\n",
       "         595,  604,  604,  618,  618,  657,  673,  673,  685,  689,  703,\n",
       "         719,  729,  729,  731,  731,  769,  791,  791,  797,  797,  797,\n",
       "         819,  838,  838,  918,  932,  934, 1070, 1077, 1082, 1082, 1085,\n",
       "        1085, 1098, 1120, 1121, 1130, 1172, 1207, 1217, 1217, 1221, 1232,\n",
       "        1232, 1240, 1240, 1246, 1247, 1247, 1249, 1249, 1299, 1307, 1307,\n",
       "        1313, 1313, 1318, 1319, 1320, 1320, 1325, 1326, 1328, 1328, 1333,\n",
       "        1334, 1334, 1340, 1340, 1345, 1354, 1360, 1362, 1368, 1377, 1378,\n",
       "        1384, 1387, 1388, 1394, 1395, 1397, 1400, 1400, 1401, 1402, 1402,\n",
       "        1404, 1405, 1406, 1409, 1410, 1411, 1457, 1500, 1500, 1509, 1514,\n",
       "        1514, 1531, 1531, 1532, 1539, 1542, 1545, 1546, 1546, 1546, 1552,\n",
       "        1552, 1556, 1574, 1656, 1663, 1663, 1663, 1676, 1677, 1677, 1681,\n",
       "        1681, 1693, 1698, 1710, 1760, 1760, 1764, 1779, 1779, 1796, 1796,\n",
       "        1816, 1816, 1818, 1818, 1843, 1843, 1849, 1859, 1860, 1860, 1873,\n",
       "        1873, 1883, 1894, 1894, 1901, 1901, 1904, 1904, 1906, 1907, 1907,\n",
       "        1908, 1908, 1913, 1913, 1933, 1935, 1942, 1950, 1950, 1953, 1953,\n",
       "        1962, 1963, 1965, 1975, 1977, 1986, 1986, 1995, 1997, 1998, 2035,\n",
       "        2090, 2104, 2190, 2258, 2277, 2278, 2305, 2337, 2343, 2361, 2380,\n",
       "        2398, 2404, 2404, 2424, 2424, 2426, 2426, 2448, 2448, 2450, 2451,\n",
       "        2458, 2472, 2472, 2473, 2497, 2503, 2508, 2509, 2519, 2520, 2524,\n",
       "        2524, 2524, 2527, 2529, 2529, 2531, 2532, 2533, 2534, 2534, 2540,\n",
       "        2560, 2574, 2586, 2592, 2603, 2641, 2650, 2651, 2684, 2770, 2770,\n",
       "        2787, 2787, 2837, 2843, 2850, 2859, 2873, 2878, 2889, 2900, 2920,\n",
       "        2937, 2950, 2960, 3015, 3015, 3041, 3076, 3077, 3089, 3123, 3143,\n",
       "        3148, 3162, 3181, 3216, 3226, 3226, 3251, 3255, 3255, 3257, 3259,\n",
       "        3260, 3260, 3274, 3274, 3278, 3338, 3341, 3347, 3349, 3350, 3381,\n",
       "        3391, 3407, 3422, 3453, 3461, 3461, 3477, 3492, 3507, 3515, 3519,\n",
       "        3520, 3520, 3526, 3532], dtype=int64),\n",
       " array([6, 6, 6, 6, 3, 8, 6, 6, 6, 6, 6, 6, 6, 3, 8, 6, 3, 8, 3, 8, 6, 6,\n",
       "        3, 8, 6, 3, 8, 6, 3, 8, 3, 8, 6, 6, 3, 8, 3, 8, 6, 3, 8, 6, 4, 6,\n",
       "        6, 3, 8, 3, 8, 6, 3, 8, 3, 6, 8, 6, 3, 8, 6, 6, 6, 6, 6, 3, 8, 3,\n",
       "        8, 6, 6, 6, 6, 6, 6, 3, 8, 6, 3, 8, 3, 8, 6, 3, 8, 3, 8, 6, 3, 8,\n",
       "        3, 8, 4, 6, 3, 8, 4, 6, 3, 8, 4, 3, 8, 3, 8, 4, 6, 4, 4, 6, 4, 4,\n",
       "        6, 4, 4, 4, 4, 6, 3, 8, 4, 3, 8, 4, 4, 4, 4, 4, 4, 6, 3, 8, 6, 3,\n",
       "        8, 3, 8, 6, 4, 4, 4, 3, 4, 8, 3, 8, 6, 6, 6, 3, 6, 8, 6, 3, 8, 3,\n",
       "        8, 6, 6, 6, 3, 8, 6, 3, 8, 3, 8, 3, 8, 3, 8, 3, 8, 6, 6, 3, 8, 3,\n",
       "        8, 6, 3, 8, 3, 8, 3, 8, 6, 3, 8, 3, 8, 3, 8, 6, 6, 6, 3, 8, 3, 8,\n",
       "        4, 4, 6, 4, 4, 3, 8, 4, 4, 4, 6, 6, 6, 6, 6, 6, 6, 6, 6, 6, 6, 6,\n",
       "        6, 3, 8, 3, 8, 3, 8, 3, 8, 6, 4, 6, 3, 8, 4, 4, 4, 4, 4, 4, 4, 3,\n",
       "        4, 8, 4, 3, 8, 4, 4, 4, 4, 6, 4, 6, 6, 6, 6, 6, 6, 4, 4, 6, 3, 8,\n",
       "        3, 8, 6, 6, 6, 6, 6, 6, 6, 6, 6, 6, 6, 6, 3, 8, 6, 6, 6, 6, 6, 6,\n",
       "        6, 6, 6, 6, 3, 8, 6, 3, 8, 6, 6, 3, 8, 3, 8, 6, 4, 4, 4, 4, 6, 6,\n",
       "        6, 6, 6, 6, 3, 8, 6, 6, 6, 6, 6, 3, 8, 6, 4], dtype=int64))"
      ]
     },
     "execution_count": 27,
     "metadata": {},
     "output_type": "execute_result"
    }
   ],
   "source": [
    "from scipy.stats import zscore\n",
    "z= np.abs(zscore(df))\n",
    "threshold=3\n",
    "np.where(z>3)"
   ]
  },
  {
   "cell_type": "code",
   "execution_count": 28,
   "metadata": {},
   "outputs": [
    {
     "data": {
      "text/html": [
       "<div>\n",
       "<style scoped>\n",
       "    .dataframe tbody tr th:only-of-type {\n",
       "        vertical-align: middle;\n",
       "    }\n",
       "\n",
       "    .dataframe tbody tr th {\n",
       "        vertical-align: top;\n",
       "    }\n",
       "\n",
       "    .dataframe thead th {\n",
       "        text-align: right;\n",
       "    }\n",
       "</style>\n",
       "<table border=\"1\" class=\"dataframe\">\n",
       "  <thead>\n",
       "    <tr style=\"text-align: right;\">\n",
       "      <th></th>\n",
       "      <th>car_year</th>\n",
       "      <th>car_name</th>\n",
       "      <th>car_model</th>\n",
       "      <th>zero_payment per month</th>\n",
       "      <th>distacnce covered in km</th>\n",
       "      <th>petrol/diesel</th>\n",
       "      <th>owner</th>\n",
       "      <th>City</th>\n",
       "      <th>car_price_INR</th>\n",
       "    </tr>\n",
       "  </thead>\n",
       "  <tbody>\n",
       "    <tr>\n",
       "      <th>0</th>\n",
       "      <td>2021</td>\n",
       "      <td>46</td>\n",
       "      <td>410</td>\n",
       "      <td>17973</td>\n",
       "      <td>2589</td>\n",
       "      <td>2</td>\n",
       "      <td>1</td>\n",
       "      <td>3</td>\n",
       "      <td>807999</td>\n",
       "    </tr>\n",
       "    <tr>\n",
       "      <th>1</th>\n",
       "      <td>2008</td>\n",
       "      <td>68</td>\n",
       "      <td>358</td>\n",
       "      <td>3285</td>\n",
       "      <td>22357</td>\n",
       "      <td>2</td>\n",
       "      <td>1</td>\n",
       "      <td>3</td>\n",
       "      <td>147699</td>\n",
       "    </tr>\n",
       "    <tr>\n",
       "      <th>2</th>\n",
       "      <td>2020</td>\n",
       "      <td>68</td>\n",
       "      <td>358</td>\n",
       "      <td>8277</td>\n",
       "      <td>2723</td>\n",
       "      <td>2</td>\n",
       "      <td>1</td>\n",
       "      <td>3</td>\n",
       "      <td>372099</td>\n",
       "    </tr>\n",
       "    <tr>\n",
       "      <th>3</th>\n",
       "      <td>2015</td>\n",
       "      <td>41</td>\n",
       "      <td>219</td>\n",
       "      <td>9343</td>\n",
       "      <td>8507</td>\n",
       "      <td>2</td>\n",
       "      <td>1</td>\n",
       "      <td>3</td>\n",
       "      <td>420000</td>\n",
       "    </tr>\n",
       "    <tr>\n",
       "      <th>4</th>\n",
       "      <td>2011</td>\n",
       "      <td>70</td>\n",
       "      <td>541</td>\n",
       "      <td>4860</td>\n",
       "      <td>20354</td>\n",
       "      <td>2</td>\n",
       "      <td>1</td>\n",
       "      <td>3</td>\n",
       "      <td>218499</td>\n",
       "    </tr>\n",
       "    <tr>\n",
       "      <th>...</th>\n",
       "      <td>...</td>\n",
       "      <td>...</td>\n",
       "      <td>...</td>\n",
       "      <td>...</td>\n",
       "      <td>...</td>\n",
       "      <td>...</td>\n",
       "      <td>...</td>\n",
       "      <td>...</td>\n",
       "      <td>...</td>\n",
       "    </tr>\n",
       "    <tr>\n",
       "      <th>3538</th>\n",
       "      <td>2012</td>\n",
       "      <td>50</td>\n",
       "      <td>452</td>\n",
       "      <td>8798</td>\n",
       "      <td>64996</td>\n",
       "      <td>0</td>\n",
       "      <td>1</td>\n",
       "      <td>0</td>\n",
       "      <td>395499</td>\n",
       "    </tr>\n",
       "    <tr>\n",
       "      <th>3539</th>\n",
       "      <td>2010</td>\n",
       "      <td>14</td>\n",
       "      <td>272</td>\n",
       "      <td>5414</td>\n",
       "      <td>76623</td>\n",
       "      <td>0</td>\n",
       "      <td>2</td>\n",
       "      <td>0</td>\n",
       "      <td>243399</td>\n",
       "    </tr>\n",
       "    <tr>\n",
       "      <th>3540</th>\n",
       "      <td>2019</td>\n",
       "      <td>113</td>\n",
       "      <td>458</td>\n",
       "      <td>21909</td>\n",
       "      <td>3353</td>\n",
       "      <td>2</td>\n",
       "      <td>1</td>\n",
       "      <td>0</td>\n",
       "      <td>984899</td>\n",
       "    </tr>\n",
       "    <tr>\n",
       "      <th>3541</th>\n",
       "      <td>2014</td>\n",
       "      <td>47</td>\n",
       "      <td>289</td>\n",
       "      <td>14383</td>\n",
       "      <td>64279</td>\n",
       "      <td>2</td>\n",
       "      <td>1</td>\n",
       "      <td>0</td>\n",
       "      <td>646599</td>\n",
       "    </tr>\n",
       "    <tr>\n",
       "      <th>3542</th>\n",
       "      <td>2011</td>\n",
       "      <td>50</td>\n",
       "      <td>222</td>\n",
       "      <td>9903</td>\n",
       "      <td>72397</td>\n",
       "      <td>2</td>\n",
       "      <td>2</td>\n",
       "      <td>0</td>\n",
       "      <td>445199</td>\n",
       "    </tr>\n",
       "  </tbody>\n",
       "</table>\n",
       "<p>3297 rows × 9 columns</p>\n",
       "</div>"
      ],
      "text/plain": [
       "      car_year  car_name  car_model  zero_payment per month  \\\n",
       "0         2021        46        410                   17973   \n",
       "1         2008        68        358                    3285   \n",
       "2         2020        68        358                    8277   \n",
       "3         2015        41        219                    9343   \n",
       "4         2011        70        541                    4860   \n",
       "...        ...       ...        ...                     ...   \n",
       "3538      2012        50        452                    8798   \n",
       "3539      2010        14        272                    5414   \n",
       "3540      2019       113        458                   21909   \n",
       "3541      2014        47        289                   14383   \n",
       "3542      2011        50        222                    9903   \n",
       "\n",
       "      distacnce covered in km  petrol/diesel  owner  City  car_price_INR  \n",
       "0                        2589              2      1     3         807999  \n",
       "1                       22357              2      1     3         147699  \n",
       "2                        2723              2      1     3         372099  \n",
       "3                        8507              2      1     3         420000  \n",
       "4                       20354              2      1     3         218499  \n",
       "...                       ...            ...    ...   ...            ...  \n",
       "3538                    64996              0      1     0         395499  \n",
       "3539                    76623              0      2     0         243399  \n",
       "3540                     3353              2      1     0         984899  \n",
       "3541                    64279              2      1     0         646599  \n",
       "3542                    72397              2      2     0         445199  \n",
       "\n",
       "[3297 rows x 9 columns]"
      ]
     },
     "execution_count": 28,
     "metadata": {},
     "output_type": "execute_result"
    }
   ],
   "source": [
    "df_new_z=df[(z<3).all(axis=1)]\n",
    "df_new_z"
   ]
  },
  {
   "cell_type": "code",
   "execution_count": 29,
   "metadata": {},
   "outputs": [
    {
     "data": {
      "text/plain": [
       "(3297, 9)"
      ]
     },
     "execution_count": 29,
     "metadata": {},
     "output_type": "execute_result"
    }
   ],
   "source": [
    "df_new_z.shape"
   ]
  },
  {
   "cell_type": "code",
   "execution_count": 30,
   "metadata": {},
   "outputs": [
    {
     "data": {
      "text/plain": [
       "(3543, 9)"
      ]
     },
     "execution_count": 30,
     "metadata": {},
     "output_type": "execute_result"
    }
   ],
   "source": [
    "df.shape"
   ]
  },
  {
   "cell_type": "code",
   "execution_count": 31,
   "metadata": {},
   "outputs": [],
   "source": [
    "Data_loss=((3543-3297)/3543)*100"
   ]
  },
  {
   "cell_type": "code",
   "execution_count": 32,
   "metadata": {},
   "outputs": [
    {
     "data": {
      "text/plain": [
       "6.943268416596105"
      ]
     },
     "execution_count": 32,
     "metadata": {},
     "output_type": "execute_result"
    }
   ],
   "source": [
    "Data_loss"
   ]
  },
  {
   "cell_type": "markdown",
   "metadata": {},
   "source": [
    "We will continue with our new dataset. As we have lost only 6% of our dataset"
   ]
  },
  {
   "cell_type": "markdown",
   "metadata": {},
   "source": [
    "# Splitting the data into X(INDEPENDENT VAR) & Y(DEPENDENT VAR)"
   ]
  },
  {
   "cell_type": "code",
   "execution_count": 42,
   "metadata": {},
   "outputs": [],
   "source": [
    "x= df_new_z.drop(\"car_price_INR\",axis=1)     # independent variable\n",
    "y= df_new_z[\"car_price_INR\"]                 # dependent variable"
   ]
  },
  {
   "cell_type": "code",
   "execution_count": 43,
   "metadata": {},
   "outputs": [
    {
     "data": {
      "text/plain": [
       "8"
      ]
     },
     "execution_count": 43,
     "metadata": {},
     "output_type": "execute_result"
    }
   ],
   "source": [
    "x.columns.size"
   ]
  },
  {
   "cell_type": "code",
   "execution_count": 44,
   "metadata": {},
   "outputs": [
    {
     "data": {
      "text/plain": [
       "Index(['car_year', 'car_name', 'car_model', 'zero_payment per month',\n",
       "       'distacnce covered in km', 'petrol/diesel', 'owner', 'City'],\n",
       "      dtype='object')"
      ]
     },
     "execution_count": 44,
     "metadata": {},
     "output_type": "execute_result"
    }
   ],
   "source": [
    "x.columns"
   ]
  },
  {
   "cell_type": "markdown",
   "metadata": {},
   "source": [
    "# SKEWNESS"
   ]
  },
  {
   "cell_type": "code",
   "execution_count": 45,
   "metadata": {},
   "outputs": [
    {
     "data": {
      "text/plain": [
       "car_year                  -0.240147\n",
       "car_name                   0.150580\n",
       "car_model                 -0.644768\n",
       "zero_payment per month     1.218594\n",
       "distacnce covered in km    0.698890\n",
       "petrol/diesel             -1.028011\n",
       "owner                      1.327794\n",
       "City                      -0.286005\n",
       "dtype: float64"
      ]
     },
     "execution_count": 45,
     "metadata": {},
     "output_type": "execute_result"
    }
   ],
   "source": [
    "x.skew()"
   ]
  },
  {
   "cell_type": "code",
   "execution_count": 46,
   "metadata": {},
   "outputs": [],
   "source": [
    "from sklearn.preprocessing import power_transform\n",
    "x_new=power_transform(x)\n",
    "\n",
    "x_new=pd.DataFrame(x_new,columns=x.columns)"
   ]
  },
  {
   "cell_type": "markdown",
   "metadata": {},
   "source": [
    "# SCALING"
   ]
  },
  {
   "cell_type": "code",
   "execution_count": 47,
   "metadata": {},
   "outputs": [],
   "source": [
    "from sklearn.preprocessing import MinMaxScaler\n",
    "\n",
    "scaler= MinMaxScaler()\n",
    "\n",
    "x_new=pd.DataFrame(scaler.fit_transform(x), columns= x_new.columns)"
   ]
  },
  {
   "cell_type": "markdown",
   "metadata": {},
   "source": [
    "all the train data columns are in range 0-1.\n",
    "\n",
    "our predictions will be more accurate now."
   ]
  },
  {
   "cell_type": "markdown",
   "metadata": {},
   "source": [
    "# FINDING BEST RANDOM STATE"
   ]
  },
  {
   "cell_type": "code",
   "execution_count": 48,
   "metadata": {},
   "outputs": [
    {
     "name": "stdout",
     "output_type": "stream",
     "text": [
      "Best accuracy is 0.9999999965673106 on Random_state 1\n"
     ]
    }
   ],
   "source": [
    "from sklearn.model_selection import train_test_split\n",
    "from sklearn.linear_model import LinearRegression\n",
    "from sklearn.metrics import r2_score\n",
    "maxAccu=0\n",
    "maxRS=0\n",
    "\n",
    "for i in range (1,100):\n",
    "    x_train,x_test,y_train,y_test= train_test_split(x_new,y,test_size=.20, random_state=i)\n",
    "    LR= LinearRegression()\n",
    "    LR.fit(x_train,y_train)\n",
    "    predrf=LR.predict(x_test)\n",
    "    acc=r2_score(y_test,predrf)\n",
    "    if acc>maxAccu:\n",
    "        maxAccu=acc\n",
    "        maxRS=i\n",
    "print(\"Best accuracy is\",maxAccu,\"on Random_state\", maxRS)"
   ]
  },
  {
   "cell_type": "markdown",
   "metadata": {},
   "source": [
    "# Finding best algorithm for our model:"
   ]
  },
  {
   "cell_type": "code",
   "execution_count": 49,
   "metadata": {},
   "outputs": [],
   "source": [
    "from sklearn.svm import SVR\n",
    "from sklearn.neighbors import KNeighborsRegressor\n",
    "from sklearn.ensemble import RandomForestRegressor\n",
    "from sklearn.tree import DecisionTreeRegressor\n",
    "from sklearn.ensemble import AdaBoostRegressor"
   ]
  },
  {
   "cell_type": "code",
   "execution_count": 50,
   "metadata": {},
   "outputs": [],
   "source": [
    "LR= LinearRegression()\n",
    "knn = KNeighborsRegressor()\n",
    "dt = DecisionTreeRegressor()\n",
    "rf = RandomForestRegressor()\n",
    "ad= AdaBoostRegressor()\n",
    "svr= SVR()"
   ]
  },
  {
   "cell_type": "code",
   "execution_count": 52,
   "metadata": {},
   "outputs": [
    {
     "name": "stdout",
     "output_type": "stream",
     "text": [
      "r2_score LinearRegression() = 0.9999999965673106\n",
      "r2_score KNeighborsRegressor() = 0.9046989256412762\n",
      "r2_score DecisionTreeRegressor() = 0.9999135622253846\n",
      "r2_score RandomForestRegressor() = 0.999960683155461\n",
      "r2_score AdaBoostRegressor() = 0.9971061018298119\n",
      "r2_score SVR() = -0.08131713746653779\n"
     ]
    }
   ],
   "source": [
    "x_train,x_test,y_train,y_test= train_test_split(x_new,y,test_size=.20, random_state=1)\n",
    "for i in (LR,knn, dt, rf,ad,svr):\n",
    "    i.fit(x_train, y_train)\n",
    "    \n",
    "    pred = i.predict(x_test)\n",
    "    \n",
    "    print(\"r2_score\",i,\"=\", r2_score(y_test,pred))"
   ]
  },
  {
   "cell_type": "markdown",
   "metadata": {},
   "source": [
    "# CROSS_VALIDATION_SCORE"
   ]
  },
  {
   "cell_type": "code",
   "execution_count": 53,
   "metadata": {},
   "outputs": [],
   "source": [
    "from sklearn.model_selection import cross_val_score"
   ]
  },
  {
   "cell_type": "code",
   "execution_count": 54,
   "metadata": {},
   "outputs": [
    {
     "name": "stdout",
     "output_type": "stream",
     "text": [
      "cross validation score LinearRegression() = 0.9999999957993418\n",
      "cross validation score KNeighborsRegressor() = 0.9849979894904678\n",
      "cross validation score DecisionTreeRegressor() = 0.9999495744243792\n",
      "cross validation score RandomForestRegressor() = 0.9999727692775787\n",
      "cross validation score AdaBoostRegressor() = 0.9953464115116682\n",
      "cross validation score SVR() = -0.080342845176206\n"
     ]
    }
   ],
   "source": [
    "x_train,x_test,y_train,y_test= train_test_split(x_new,y,test_size=.20, random_state=1)\n",
    "for i in (LR,knn, dt, rf,ad,svr):\n",
    "    scr=cross_val_score(i,x,y,cv=5)\n",
    "    print(\"cross validation score\",i,\"=\", scr.mean())"
   ]
  },
  {
   "cell_type": "code",
   "execution_count": 65,
   "metadata": {},
   "outputs": [],
   "source": [
    "# we will continue with Random Forest"
   ]
  },
  {
   "cell_type": "markdown",
   "metadata": {},
   "source": [
    "# Hyperparameter tunning with best model"
   ]
  },
  {
   "cell_type": "code",
   "execution_count": 55,
   "metadata": {},
   "outputs": [],
   "source": [
    "from sklearn.model_selection import GridSearchCV"
   ]
  },
  {
   "cell_type": "code",
   "execution_count": 56,
   "metadata": {},
   "outputs": [
    {
     "name": "stdout",
     "output_type": "stream",
     "text": [
      "{'criterion': 'mae', 'max_features': 'auto'}\n"
     ]
    }
   ],
   "source": [
    "parameters = {'criterion':('mse', 'mae'), \"max_features\":[\"auto\",\"sqrt\",\"log2\"]}\n",
    "rf=RandomForestRegressor()\n",
    "rf.fit(x_train,y_train)\n",
    "clf=GridSearchCV(rf,parameters)\n",
    "clf.fit(x_train,y_train)\n",
    "\n",
    "print(clf.best_params_)"
   ]
  },
  {
   "cell_type": "code",
   "execution_count": 57,
   "metadata": {},
   "outputs": [],
   "source": [
    "clf_pred=clf.best_estimator_.predict(x_test)"
   ]
  },
  {
   "cell_type": "code",
   "execution_count": 58,
   "metadata": {},
   "outputs": [
    {
     "data": {
      "text/plain": [
       "0.9999665520716736"
      ]
     },
     "execution_count": 58,
     "metadata": {},
     "output_type": "execute_result"
    }
   ],
   "source": [
    "r2_score(y_test,clf_pred)"
   ]
  },
  {
   "cell_type": "code",
   "execution_count": 59,
   "metadata": {},
   "outputs": [],
   "source": [
    "rf=RandomForestRegressor( criterion='mae',  max_features='auto',  random_state=1)"
   ]
  },
  {
   "cell_type": "code",
   "execution_count": 60,
   "metadata": {},
   "outputs": [
    {
     "data": {
      "text/plain": [
       "RandomForestRegressor(criterion='mae', random_state=1)"
      ]
     },
     "execution_count": 60,
     "metadata": {},
     "output_type": "execute_result"
    }
   ],
   "source": [
    "rf.fit(x_train,y_train)"
   ]
  },
  {
   "cell_type": "markdown",
   "metadata": {},
   "source": [
    "# SAVING OUR MODEL"
   ]
  },
  {
   "cell_type": "code",
   "execution_count": 61,
   "metadata": {},
   "outputs": [],
   "source": [
    "import pickle\n",
    "filename= \"CarPrice.pkl\"\n",
    "pickle.dump(rf,open(filename,\"wb\"))"
   ]
  },
  {
   "cell_type": "markdown",
   "metadata": {},
   "source": [
    "# LOAD THE MODEL:"
   ]
  },
  {
   "cell_type": "code",
   "execution_count": 62,
   "metadata": {},
   "outputs": [
    {
     "name": "stdout",
     "output_type": "stream",
     "text": [
      "0.9999647148729737\n"
     ]
    }
   ],
   "source": [
    "loaded_model=pickle.load(open(\"CarPrice.pkl\",\"rb\"))\n",
    "\n",
    "result= loaded_model.score(x_test,y_test)\n",
    "print(result)"
   ]
  },
  {
   "cell_type": "markdown",
   "metadata": {},
   "source": [
    "# RESULTS:"
   ]
  },
  {
   "cell_type": "code",
   "execution_count": 63,
   "metadata": {},
   "outputs": [],
   "source": [
    "conclusion=pd.DataFrame([loaded_model.predict(x_test)[:],clf_pred[:]],index=[\"predicted\",\"original\"])"
   ]
  },
  {
   "cell_type": "code",
   "execution_count": 64,
   "metadata": {},
   "outputs": [
    {
     "data": {
      "text/html": [
       "<div>\n",
       "<style scoped>\n",
       "    .dataframe tbody tr th:only-of-type {\n",
       "        vertical-align: middle;\n",
       "    }\n",
       "\n",
       "    .dataframe tbody tr th {\n",
       "        vertical-align: top;\n",
       "    }\n",
       "\n",
       "    .dataframe thead th {\n",
       "        text-align: right;\n",
       "    }\n",
       "</style>\n",
       "<table border=\"1\" class=\"dataframe\">\n",
       "  <thead>\n",
       "    <tr style=\"text-align: right;\">\n",
       "      <th></th>\n",
       "      <th>0</th>\n",
       "      <th>1</th>\n",
       "      <th>2</th>\n",
       "      <th>3</th>\n",
       "      <th>4</th>\n",
       "      <th>5</th>\n",
       "      <th>6</th>\n",
       "      <th>7</th>\n",
       "      <th>8</th>\n",
       "      <th>9</th>\n",
       "      <th>...</th>\n",
       "      <th>650</th>\n",
       "      <th>651</th>\n",
       "      <th>652</th>\n",
       "      <th>653</th>\n",
       "      <th>654</th>\n",
       "      <th>655</th>\n",
       "      <th>656</th>\n",
       "      <th>657</th>\n",
       "      <th>658</th>\n",
       "      <th>659</th>\n",
       "    </tr>\n",
       "  </thead>\n",
       "  <tbody>\n",
       "    <tr>\n",
       "      <th>predicted</th>\n",
       "      <td>657910.03</td>\n",
       "      <td>293723.0</td>\n",
       "      <td>372869.04</td>\n",
       "      <td>392446.0</td>\n",
       "      <td>361397.0</td>\n",
       "      <td>556930.00</td>\n",
       "      <td>1109532.02</td>\n",
       "      <td>290000.19</td>\n",
       "      <td>261106.0</td>\n",
       "      <td>635020.38</td>\n",
       "      <td>...</td>\n",
       "      <td>395574.01</td>\n",
       "      <td>701720.0</td>\n",
       "      <td>415562.0</td>\n",
       "      <td>487279.0</td>\n",
       "      <td>621744.0</td>\n",
       "      <td>810695.64</td>\n",
       "      <td>330993.18</td>\n",
       "      <td>1148013.0</td>\n",
       "      <td>1143610.01</td>\n",
       "      <td>278756.0</td>\n",
       "    </tr>\n",
       "    <tr>\n",
       "      <th>original</th>\n",
       "      <td>658173.04</td>\n",
       "      <td>293765.0</td>\n",
       "      <td>372905.10</td>\n",
       "      <td>392450.0</td>\n",
       "      <td>361386.0</td>\n",
       "      <td>556966.01</td>\n",
       "      <td>1108132.03</td>\n",
       "      <td>289988.10</td>\n",
       "      <td>261175.0</td>\n",
       "      <td>635055.81</td>\n",
       "      <td>...</td>\n",
       "      <td>395575.13</td>\n",
       "      <td>701698.5</td>\n",
       "      <td>415459.0</td>\n",
       "      <td>487285.0</td>\n",
       "      <td>621530.0</td>\n",
       "      <td>810623.65</td>\n",
       "      <td>330961.71</td>\n",
       "      <td>1148741.0</td>\n",
       "      <td>1143391.00</td>\n",
       "      <td>278794.0</td>\n",
       "    </tr>\n",
       "  </tbody>\n",
       "</table>\n",
       "<p>2 rows × 660 columns</p>\n",
       "</div>"
      ],
      "text/plain": [
       "                 0         1          2         3         4          5    \\\n",
       "predicted  657910.03  293723.0  372869.04  392446.0  361397.0  556930.00   \n",
       "original   658173.04  293765.0  372905.10  392450.0  361386.0  556966.01   \n",
       "\n",
       "                  6          7         8          9    ...        650  \\\n",
       "predicted  1109532.02  290000.19  261106.0  635020.38  ...  395574.01   \n",
       "original   1108132.03  289988.10  261175.0  635055.81  ...  395575.13   \n",
       "\n",
       "                651       652       653       654        655        656  \\\n",
       "predicted  701720.0  415562.0  487279.0  621744.0  810695.64  330993.18   \n",
       "original   701698.5  415459.0  487285.0  621530.0  810623.65  330961.71   \n",
       "\n",
       "                 657         658       659  \n",
       "predicted  1148013.0  1143610.01  278756.0  \n",
       "original   1148741.0  1143391.00  278794.0  \n",
       "\n",
       "[2 rows x 660 columns]"
      ]
     },
     "execution_count": 64,
     "metadata": {},
     "output_type": "execute_result"
    }
   ],
   "source": [
    "conclusion"
   ]
  },
  {
   "cell_type": "markdown",
   "metadata": {},
   "source": [
    "## we achieved 99.9% accuracy with our model, it is best accuracy score we have achieved with our model"
   ]
  },
  {
   "cell_type": "code",
   "execution_count": null,
   "metadata": {},
   "outputs": [],
   "source": []
  }
 ],
 "metadata": {
  "kernelspec": {
   "display_name": "Python 3",
   "language": "python",
   "name": "python3"
  },
  "language_info": {
   "codemirror_mode": {
    "name": "ipython",
    "version": 3
   },
   "file_extension": ".py",
   "mimetype": "text/x-python",
   "name": "python",
   "nbconvert_exporter": "python",
   "pygments_lexer": "ipython3",
   "version": "3.8.3"
  }
 },
 "nbformat": 4,
 "nbformat_minor": 4
}
